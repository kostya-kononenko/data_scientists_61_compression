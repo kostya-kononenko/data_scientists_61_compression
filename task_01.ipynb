{
 "cells": [
  {
   "cell_type": "code",
   "execution_count": null,
   "id": "d35408a6",
   "metadata": {},
   "outputs": [],
   "source": [
    "import cv2"
   ]
  },
  {
   "cell_type": "code",
   "execution_count": 6,
   "id": "bd517828",
   "metadata": {},
   "outputs": [],
   "source": [
    "img = cv2.imread('Tuscany_Italy.png')"
   ]
  },
  {
   "cell_type": "code",
   "execution_count": 7,
   "id": "e870f995",
   "metadata": {},
   "outputs": [],
   "source": [
    "encode_param = [int(cv2.IMWRITE_JPEG_QUALITY), 90]"
   ]
  },
  {
   "cell_type": "code",
   "execution_count": 8,
   "id": "7f865154",
   "metadata": {},
   "outputs": [],
   "source": [
    "result, encimg = cv2.imencode('.jpg', img, encode_param)"
   ]
  },
  {
   "cell_type": "code",
   "execution_count": 9,
   "id": "53273c50",
   "metadata": {},
   "outputs": [],
   "source": [
    "with open(\"compressed_image_tuscany_italy.jpg\", \"wb\") as f:\n",
    "    f.write(encimg)"
   ]
  }
 ],
 "metadata": {
  "kernelspec": {
   "display_name": "Python 3 (ipykernel)",
   "language": "python",
   "name": "python3"
  },
  "language_info": {
   "codemirror_mode": {
    "name": "ipython",
    "version": 3
   },
   "file_extension": ".py",
   "mimetype": "text/x-python",
   "name": "python",
   "nbconvert_exporter": "python",
   "pygments_lexer": "ipython3",
   "version": "3.11.3"
  }
 },
 "nbformat": 4,
 "nbformat_minor": 5
}
