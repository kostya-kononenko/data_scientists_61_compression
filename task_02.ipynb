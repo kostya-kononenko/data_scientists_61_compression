{
 "cells": [
  {
   "cell_type": "code",
   "execution_count": 1,
   "id": "a160ef47",
   "metadata": {},
   "outputs": [],
   "source": [
    "import gzip"
   ]
  },
  {
   "cell_type": "code",
   "execution_count": 2,
   "id": "ac46eb95",
   "metadata": {},
   "outputs": [],
   "source": [
    "with open('lorim.txt', 'rb') as f_in:\n",
    "    with gzip.open('lorim.txt.gz', 'wb') as f_out:\n",
    "        f_out.writelines(f_in)"
   ]
  },
  {
   "cell_type": "code",
   "execution_count": 3,
   "id": "2ebe9620",
   "metadata": {},
   "outputs": [
    {
     "name": "stdout",
     "output_type": "stream",
     "text": [
      "Lorem ipsum dolor sit amet. Aut quia repudiandae sed vitae ratione aut internos voluptas! Aut aliquam porro et dolores voluptas quo quod accusantium et necessitatibus minus. Sit tempore dignissimos ea voluptates corrupti qui illo vitae ut fuga quaerat. Sed doloribus reprehenderit id quaerat rerum et excepturi consequatur et officia quae ut enim voluptas et corrupti soluta 33 facilis amet. Aut ducimus facilis ut voluptates rerum aut aspernatur aliquid sed quam ullam et ratione enim. Sed debitis dolores aut iure dolores sit sequi minima id itaque adipisci non quia enim id pariatur consequuntur est corrupti saepe. Eum odit internos rem voluptatem quidem ut blanditiis voluptas sit alias architecto rem porro voluptatum non ullam totam. Aut dignissimos accusantium sed fuga quis ut sint excepturi qui nemo adipisci. Et doloribus autem eum quia velit ut optio mollitia 33 mollitia perspiciatis est consequuntur facilis et dolorem voluptas sit blanditiis consequatur. Id temporibus accusantium et minima voluptas in rerum sunt qui omnis cupiditate et eligendi dolor est perferendis culpa At eius iure. Ex sunt corrupti At eveniet quam eos voluptates impedit ut culpa architecto et corporis repudiandae quo facilis nemo.\n",
      "\n",
      "\n",
      "\n",
      "Quo voluptates necessitatibus ab voluptas totam ex temporibus alias sit numquam eligendi. Vel similique temporibus ea nihil sint et laudantium nulla ut molestias quas ab perspiciatis dicta aut minus nemo. Cum pariatur repellat et nisi quibusdam quo pariatur labore. Id laborum delectus et quas reprehenderit sed inventore commodi qui velit sint et sunt voluptatibus aut internos placeat At quaerat ullam. Aut molestias beatae non quia deleniti vel porro molestiae et labore debitis a harum blanditiis eos facilis dolorem ut laudantium rerum. Aut odio sunt est expedita velit eos fugit omnis. Vel accusantium accusamus qui minima voluptatibus est doloribus similique ex molestiae facilis vel maxime reiciendis. Et suscipit galisum ut quod quis aut dolor quis in alias quia aut facilis exercitationem et ratione velit. Ut reprehenderit fugit et repellendus quod qui voluptas natus ut galisum impedit. Et doloremque error est dolorem architecto et sequi vitae At quos iure qui illo autem. Hic internos architecto eos pariatur maiores qui tenetur porro et quia rerum sit dicta labore et sint dolorem ab dolore corporis. Rem laboriosam provident est beatae reprehenderit sed officiis minus non iste ipsa est ratione esse eos voluptate nihil. Ut accusantium dignissimos est maxime Quis qui quos omnis. Qui consectetur odit nam labore excepturi qui nulla beatae.\n",
      "\n",
      "\n",
      "\n",
      "Ut libero minima in magni similique ex unde aliquam ad quod consequatur et natus excepturi et vitae quaerat. Hic officia suscipit aut accusamus autem sed voluptas officia. Ut neque voluptatum et harum consequatur sit Quis magni. Ut animi error sed illum galisum nam ipsa quae. Ut molestiae nostrum ea quasi iste quo dolorem omnis. Est ipsa libero At alias vitae ut sint voluptatem est laborum impedit sed accusantium ipsum ab suscipit quidem. Est perferendis commodi et esse quia et suscipit sunt. Vel minus totam ut amet quia ut perspiciatis laborum aut alias totam!\n",
      "\n",
      "\n",
      "\n",
      "Eum tempore optio ut sint velit ea sunt reprehenderit et temporibus nemo non fuga quia ex voluptas iste! Nam itaque vitae aut perferendis dignissimos ea galisum assumenda. Et dolore omnis ut maxime neque ut saepe veniam et veniam molestiae. Ut tempora illo nam tenetur eaque et numquam amet nam nostrum expedita. Id exercitationem nesciunt qui necessitatibus maxime sed praesentium reprehenderit. Et aspernatur temporibus hic laudantium perferendis ut repellat vero quo asperiores adipisci aut atque nisi non molestiae nesciunt ea quos reprehenderit. Nam incidunt recusandae ut ipsa laudantium in sapiente atque? Non minima Quis et obcaecati optio non quaerat quia. Aut consequatur deleniti id unde internos eum libero adipisci At voluptatem laboriosam ex soluta molestias non voluptatem velit et totam dolorum. A unde voluptas ea omnis iusto est magnam nihil qui distinctio corrupti eos accusamus natus. Qui optio officia et molestiae harum ab minus quia.\n",
      "\n",
      "\n",
      "\n",
      "Est impedit blanditiis At dignissimos eius aut veniam doloremque. Et vitae dolore aut quaerat nisi id earum voluptatem. Et dolores quos et dolores veritatis qui perferendis dolorem et incidunt veniam est enim perspiciatis et autem impedit ut provident aperiam. Cum quod tempore aut eaque internos aut galisum omnis est nostrum enim aut dolor cumque est architecto sunt! Sit cumque exercitationem ut totam suscipit qui aliquam quas aut dolorem nostrum eum tenetur voluptatum et temporibus nobis eum molestiae commodi. Ea fuga dolorum ad officiis molestiae id cupiditate quia est error dolores rem officia doloribus ut assumenda dolor et dolorem illo! Aut quam sint ex beatae dolorem nam quia sunt aut autem officiis. Et veritatis porro ut iusto consequatur qui corrupti dolorem sit nesciunt minima aut aperiam voluptatum id optio quod. Qui sunt doloremque ad iste velit et itaque totam aut perferendis perspiciatis eum recusandae sapiente ea Quis internos. Hic galisum doloribus eum sint amet id cupiditate dignissimos est delectus alias non sunt recusandae non porro magnam ut sint omnis. Hic assumenda consequatur eum quibusdam molestiae et optio neque ut corporis dolorum et dolorem Quis qui quae optio. Nam maxime enim ut quia incidunt et quam voluptas ut similique commodi est assumenda corrupti ut velit aperiam sed obcaecati eius. Eos facilis amet quo enim quia aut aliquid quod eos quisquam repellat sed officia nobis eos architecto nisi. Et ullam sapiente aut deleniti nobis et autem exercitationem a asperiores ipsa ut molestiae magnam hic voluptas eligendi qui vitae quia!\n",
      "\n",
      "\n",
      "\n",
      "Aut facilis dignissimos qui sunt ullam hic accusamus pariatur quo eveniet placeat qui sint rerum est beatae voluptas est quia fugit. Aut esse veritatis ut quisquam adipisci eos magnam maxime. Non numquam nemo et ullam distinctio qui odit veniam ex Quis sequi! Est culpa nemo ut autem dolores et quod natus qui voluptatum natus et aliquid dolore. Id galisum necessitatibus ut excepturi consectetur ab repellendus incidunt aut labore consequuntur non reprehenderit soluta non odit enim sit consequatur minus. Hic Quis tenetur sit quidem eaque eos consequatur debitis ab ipsum dicta. Ea soluta veniam quo illum dignissimos qui officia praesentium in recusandae consequuntur. Est dicta voluptatem et nihil odio ut tempora aperiam nam consequatur dolores sed consequatur placeat aut alias voluptatem ut libero tempore. Eos illum sunt qui labore galisum et nemo explicabo! Non provident provident nam sapiente deserunt eum magni harum. Vel temporibus vitae et culpa autem ad reiciendis molestias est velit eius qui harum fugiat rem harum accusantium. Ut doloremque officiis aut quisquam voluptate sit internos consequatur ut molestias magni At autem autem? Eum laboriosam eveniet et praesentium nihil qui quaerat accusamus. Ut facilis dignissimos est internos iusto ea accusantium dolor et ullam voluptatem a sint atque non accusamus dolor ut fuga voluptas.\n",
      "\n",
      "\n",
      "\n",
      "Et nihil sint ut debitis asperiores aut molestias officiis qui asperiores asperiores cum reiciendis nisi vel sint quisquam. Et dolor ullam qui illo voluptatem et quod sapiente et eligendi velit est officia laudantium At provident Quis ab fuga voluptatibus. Sit maiores consequatur non quas dicta ut dolor Quis a distinctio voluptas non perspiciatis error ex possimus odit quo delectus atque. Eos accusantium animi sit iste quisquam aut dolor eveniet non illo cupiditate et distinctio labore. Aut provident aliquid et veritatis quibusdam eos deleniti assumenda sed aspernatur temporibus ea minus veritatis vel eaque voluptatem. Eum ipsam temporibus vel voluptas voluptatem 33 veniam dolorum! Qui recusandae possimus ut porro cupiditate qui animi corrupti? Ut maiores consequatur aut corporis cumque aut dicta accusantium ea ipsa corrupti ut architecto distinctio sit nulla nulla aut internos nihil. Est deleniti Quis ex obcaecati doloribus et nisi enim aut architecto incidunt et aspernatur temporibus qui porro possimus! Ut quaerat modi vel galisum quisquam aut voluptatum inventore quo odit dicta. Hic natus quasi sit cumque dolor aut saepe voluptate. Id porro natus et sunt accusantium ea labore consectetur est atque quia eos enim quas. Qui fugiat voluptas qui perferendis fuga et temporibus fugiat a minima facere est voluptatem omnis sit inventore beatae. Et dolores odit eos architecto optio aut odit ipsam qui internos blanditiis ad fuga corrupti ut nobis alias et aliquid galisum!\n",
      "\n",
      "\n",
      "\n",
      "Non commodi eligendi et reiciendis magni a ullam error 33 enim cumque est quidem sequi est consectetur corporis. Eum totam facilis sed provident nobis est fuga unde est totam quibusdam. Sit doloremque veniam ea eaque sequi ut voluptate corrupti et voluptatem voluptatem aut possimus adipisci ad excepturi quia. Eum fugit consequuntur hic consequatur dolor non molestiae odio sed laboriosam velit ut sint distinctio. Aut quisquam odio nam laudantium alias sit labore iure ex molestiae consequuntur id minima doloribus! Et voluptas laudantium vel nihil iure ut galisum praesentium. Et temporibus consequuntur ut velit expedita et expedita aliquid sit blanditiis praesentium ut sint molestias. Ex atque maiores a dolores velit est autem tempora est debitis obcaecati et veniam ducimus et corrupti mollitia.\n",
      "\n",
      "\n",
      "\n",
      "Ea velit incidunt et dignissimos eius qui illum reprehenderit vel animi provident non enim dignissimos. Non sunt voluptas aut temporibus quia cum vitae quia sit debitis eveniet non sint harum et ducimus dolor. Eos impedit voluptatem est voluptatem perferendis cum sint ipsum aut dolor voluptatem et officia minima? Quo quia eveniet et consequatur doloremque id dolores facilis vel sapiente perspiciatis ut molestias odio! Ea asperiores tenetur qui aperiam accusantium et dolor galisum. Rem recusandae quia a perspiciatis dignissimos id nostrum ullam? Est autem corrupti nam nesciunt numquam non assumenda ipsa et numquam nisi ex exercitationem totam. Ea sint cumque quo magni molestias ut quas impedit eum dolor ratione est consectetur minima! Nam dolor tempora ea pariatur minus est neque pariatur non exercitationem esse. Eum libero porro rem incidunt facilis sit vero obcaecati et architecto voluptatem ut quaerat aperiam aut odio odit. Id quidem nulla ea iste amet non facilis delectus ut tempora sunt qui accusantium accusantium nam dolorum voluptatem.\n",
      "\n",
      "\n",
      "\n",
      "Qui aperiam magni hic voluptatum saepe aut consequatur animi est dolor voluptatem non eligendi expedita. Non veritatis galisum qui vero tempora qui incidunt error nam mollitia ipsam aut rerum commodi. Quo animi minima et commodi voluptatem aut recusandae sunt sed fugit iure et voluptas ipsam. Qui sapiente ratione rem fuga odio eos consequatur distinctio aut commodi aliquam quo repellendus vitae et voluptate sequi. Sit necessitatibus obcaecati 33 Quis explicabo ut laudantium sunt ut dolores velit est dolores libero! Id tempora adipisci et reprehenderit dolor id internos dolorum et dolorem consequuntur ad harum totam? Et odit quis ea quasi dolores ut rerum reprehenderit. Ea magni omnis ut dolor incidunt et autem exercitationem sit illo error in tempora consequatur qui quis incidunt. Et libero alias et accusantium fugit quo possimus quas et dicta quae. Eos odit rerum qui aperiam similique ea sint suscipit sit quidem quia sit dolores alias sit quae quidem! In quae maiores non nihil vero ut quidem autem est galisum ullam ut dolore vitae ut veniam quae hic praesentium accusantium. Eum optio nobis et harum sequi cum soluta molestiae At mollitia animi. Qui perspiciatis eligendi ut corrupti aliquid 33 repudiandae soluta quo autem labore. Ut cupiditate eius qui aperiam error ab tempora consequatur.\n",
      "\n",
      "\n",
      "\n",
      "Est velit impedit qui provident eaque sed minus quae eos perspiciatis quibusdam est temporibus nostrum. Ut nemo rerum qui iure aperiam et laudantium obcaecati non enim rerum aut molestias dolores sit nihil culpa? Ut aperiam saepe est quia commodi quo sequi explicabo aut soluta deserunt sit iste maxime qui expedita placeat. Est accusantium saepe ab recusandae aliquam aut repudiandae consequatur. Et enim nostrum qui mollitia doloribus aut recusandae voluptatem aut quisquam quibusdam qui nemo vitae sed voluptatem consequatur. Quo eligendi reprehenderit aut velit fuga est enim unde sed neque tempora qui quia quia. Nam perspiciatis odit in debitis voluptatem ut eligendi molestiae ad autem fuga quo eligendi libero est cupiditate numquam. Ea quasi fugit ut voluptas vero ab facilis voluptatem qui accusamus asperiores ad odit dolorem sit porro quis.\n",
      "\n",
      "\n",
      "\n",
      "Qui mollitia culpa quo omnis omnis ut quisquam corrupti est reprehenderit praesentium ut autem sequi vel placeat dolorem et fugit corporis. Qui incidunt obcaecati qui quam aliquam nam cupiditate nesciunt et illo magnam. Non laboriosam aperiam aut illo omnis id magni temporibus quo esse aspernatur sit minus iusto rem iusto accusantium? Id dolores doloremque qui porro dolorum ut voluptatem commodi sed doloribus sequi. Ea voluptas perspiciatis quo voluptas necessitatibus vel laboriosam aliquid At culpa doloribus? Et eaque rerum et nesciunt dolorem ut dolore culpa. Aut laboriosam neque et perferendis eveniet ut corporis reiciendis aut libero consequatur in dolor ipsa est nostrum atque. Aut assumenda molestias non enim delectus eum repellendus nesciunt id praesentium alias eum blanditiis saepe! Sit accusamus itaque eos atque nisi et inventore enim eos possimus Quis aut neque illum? Aut esse internos qui provident quaerat eum unde voluptas eos illum eveniet quo reiciendis doloribus. Et aliquid minus ea consequatur obcaecati aut corrupti voluptatum est ducimus cupiditate. Cum animi magni in similique itaque quo nemo doloribus eum eveniet itaque sit quaerat galisum et voluptatem harum. Eum dolorem blanditiis et tempora voluptatem ut voluptatem accusantium est rerum nihil! Est deserunt quia ex provident inventore ad corporis galisum et repellat nostrum.\n",
      "\n",
      "\n",
      "\n",
      "Et dolore reiciendis et internos sunt et rerum sunt non quas harum! Sed voluptate facilis est rerum itaque non aliquid error aut obcaecati dolores. Et cumque velit quo ullam voluptatum ut internos assumenda sed dolorum saepe qui ratione fuga. Nam minus voluptatibus id incidunt quisquam est deleniti rerum et dolor molestias sit earum tempore vel quibusdam dolor. Est tempora eveniet et dolores tempore sed ratione impedit ea veritatis inventore. Sit quod alias est repudiandae quia aut aliquam minima aut dolores harum. Aut optio deleniti aut libero maxime non dolor voluptatem aut perferendis atque non ipsam similique et dignissimos ipsam est officiis autem. Ea nobis aliquam id sint similique est consequatur possimus? Sed galisum sint et quae nostrum rem adipisci quaerat et tempora ipsum. Ex minima voluptatum et nemo dolor quo galisum harum sed voluptas dolorum. Qui unde earum et laboriosam unde et adipisci eligendi vel voluptatem minus aut consequuntur consequatur et ratione vitae quo minima magni?\n",
      "\n",
      "\n",
      "\n",
      "Et excepturi autem qui inventore itaque aut dolores laborum At odit consequatur aut omnis nesciunt aut saepe voluptatum qui cumque internos! Qui eius architecto ad similique animi vel quasi animi et obcaecati minima et repellat placeat ea doloribus odio a consectetur provident. Et magnam molestiae non consectetur iure nam laboriosam tenetur! Et doloremque provident qui dicta beatae aut perspiciatis temporibus est quaerat commodi. Vel repudiandae consequatur rem repellendus galisum est possimus repellat vel distinctio illo rem galisum galisum eos quia delectus eos tempore delectus. Sit atque corporis aut necessitatibus voluptatibus est maxime ullam et assumenda alias id modi consequatur et cumque eaque aut dolor facilis. Ut internos delectus vel voluptatem Quis sed beatae quae et reprehenderit consequatur et rerum voluptates ut explicabo consectetur. Id voluptatum quam ab quis incidunt et laborum nostrum est corporis enim est expedita necessitatibus? Et dolorem obcaecati eum galisum ratione sit perspiciatis velit aut iste provident ut delectus delectus id officia atque id laborum nemo! Eos unde rerum et reprehenderit iure eos doloribus galisum! Et quod dolores et reiciendis saepe est culpa fugit est repellat amet eos voluptatum excepturi sit blanditiis repellendus sit laudantium harum. Et recusandae voluptas et molestiae veritatis hic fuga fuga quo dolore eius eum galisum voluptatem ab adipisci placeat! Quo natus fugit qui culpa enim est fugiat provident et commodi molestiae 33 maxime doloremque. Est odio rerum id quia commodi et repellat culpa vel optio nihil hic fuga voluptates.\n",
      "\n",
      "\n",
      "\n",
      "Eos eligendi voluptatem et repellendus dignissimos non corrupti voluptates qui asperiores sequi et voluptatum velit est nostrum labore. Et cupiditate nesciunt et laborum omnis ut voluptates aliquam eos nulla dolor aut dolorem illo. Non molestias molestiae rem officiis quaerat vel repellat earum. Ad explicabo quidem et aliquid sint qui necessitatibus animi ea Quis totam qui optio expedita et voluptatem expedita? Aut laboriosam praesentium eos enim voluptatem qui aperiam aperiam ea accusantium asperiores vel ratione fuga ut voluptatem modi nam veniam odio. Et molestiae natus qui autem corrupti aut nemo repellat et dicta sint. Eos maxime doloribus et suscipit consequuntur et quis unde est nulla animi ad vero perspiciatis? Et enim exercitationem ea tempore delectus ad quod debitis et tenetur culpa et quos omnis est galisum consequatur. Et similique internos sed nesciunt voluptates sed facere nihil ab inventore quos aut vero modi. Est asperiores unde cum rerum praesentium non iusto deleniti et nesciunt dolores. Sed unde voluptatem eos saepe sapiente sed laborum nihil. At eius iure aut quia dolorem a unde dolores et similique molestiae aut corrupti amet. Et perspiciatis sint et tempora dolore et quos minus. Sit perspiciatis natus qui eius commodi qui dolorem velit id enim veritatis.\n",
      "\n",
      "\n",
      "\n",
      "In rerum illo ex sapiente perspiciatis qui minima corrupti est alias esse est voluptatem quia id cupiditate nobis. Ut voluptas totam eum itaque corrupti aut autem omnis aut nesciunt explicabo et commodi sint rem quaerat autem ut impedit unde. Sit nihil perferendis id reprehenderit autem et quasi quasi et quos dolores. Hic eius rerum ab sint dignissimos sed voluptatibus rerum ab tempore minus ab ipsam ullam. Aut repellat possimus ut dolor dignissimos ex autem deserunt et culpa impedit. Qui optio repellendus in esse dolorem hic adipisci modi et neque provident. Eos temporibus nulla et rerum impedit quo dolor debitis aut deserunt voluptas eos aliquid possimus? Vel impedit quaerat et sapiente nemo est dolor iure. Id galisum nobis aut dolores sunt ea dolorum eius et porro Quis. Non voluptatibus doloremque qui ullam fugit a omnis tenetur. In nemo suscipit aut nihil aliquam aut nihil soluta aut nostrum dolorem. Ut voluptate optio eos aliquid error et quisquam iure ab ullam accusantium qui suscipit eligendi et distinctio dolore eos consequuntur libero. Qui quam nisi aut numquam doloremque non dolores accusamus eum modi voluptatibus non saepe iure nam iste eius sit dolorem adipisci. Quo ullam voluptatum vel voluptas mollitia sed fuga recusandae ut autem quia ea neque asperiores ut veritatis culpa a dolorem quos.\n",
      "\n",
      "\n",
      "\n",
      "Vel reprehenderit sequi eum magni aliquid est dicta tempore aut sunt odit quo obcaecati voluptates. Ut placeat neque in expedita repellat id minima dicta. Aut veniam enim At voluptatum distinctio ea doloremque quisquam in suscipit commodi. Est nostrum omnis aut facere quas quo laborum earum sit provident molestias vel vero porro. Sed quisquam reiciendis At omnis deleniti quo facilis nesciunt qui eligendi ipsa sed sunt ipsum ut necessitatibus quos. Et labore saepe ea voluptatem quae ut deleniti nulla et consequatur facere est tempore velit eos inventore earum qui voluptatem nobis? Qui rerum dolores ut facere neque est corporis impedit. Et dolores quod sed consequatur totam in quia autem aut sunt itaque!\n",
      "\n",
      "\n",
      "\n",
      "In neque ipsum est itaque laborum ut voluptates Quis ut officia quibusdam vel deserunt rerum. Et sunt molestias aut culpa ratione et consequuntur provident ab consequuntur totam. Qui quas eaque eos illo aliquam et soluta consequatur et nihil consectetur hic incidunt officiis. Est eligendi amet quo enim impedit sit unde asperiores aut ipsum voluptate id omnis voluptas. Ea sunt magni et dolore dolores et ipsam sequi sed facilis iusto et eaque voluptatem non quam accusantium. Est vitae accusamus ut similique doloremque qui odio veniam sit quidem error et enim voluptatum. Et nobis possimus eum nobis reprehenderit sit debitis praesentium qui voluptas deserunt ea excepturi aliquid aut velit enim. Eos quibusdam sequi id Quis officiis cum voluptatem dolore ut quae galisum. Ut voluptates corporis est architecto voluptatem et enim molestias ut sunt quod aut commodi velit sit velit expedita ut accusantium facilis? Et magnam nihil ut harum laboriosam est possimus saepe et esse omnis et inventore recusandae et nisi quis et necessitatibus ipsa. Ea nostrum assumenda in sint optio cum voluptatum iure?\n",
      "\n",
      "\n",
      "\n",
      "Et fuga quia et debitis minus et sunt molestiae? Eos voluptatem nostrum sit vitae sunt ab officiis officiis. Sed quas consequatur ut sequi numquam eum corrupti deserunt sed laborum libero. 33 placeat rerum vel facere inventore rem nihil quaerat est soluta aspernatur qui perferendis vero vel facere nihil. Nam corrupti sunt est dolor unde est iure omnis. Eum voluptatem quasi 33 nesciunt consequatur nam mollitia voluptates nam quisquam dolor. Et galisum voluptate ut omnis officiis qui modi voluptatem 33 dolor fuga ut quas modi et aliquam fugit et galisum numquam. Non repellat nihil id provident dolor cum quis quos et dolor iusto ab laudantium repudiandae id dolorem ducimus.\n",
      "\n",
      "\n",
      "\n",
      "Et placeat possimus sed internos quod sit facere similique sit cupiditate rerum. Et voluptate omnis sed veritatis nisi a nobis rerum eum dicta minus. Qui totam aspernatur sit incidunt aspernatur sit repudiandae dolorum quo tempore corporis et harum adipisci. Qui pariatur debitis eum dolores perferendis est enim dolorum eum repellendus modi At nihil ratione. Eos dicta harum At ipsum blanditiis eos excepturi omnis. Vel nihil eligendi est inventore doloribus aut officia dolorem. Est reiciendis dolorum quo suscipit quidem sit porro quia ut corporis natus. Qui magni aspernatur et quia porro ut magni eaque rem eaque distinctio!\n"
     ]
    }
   ],
   "source": [
    "with gzip.open('lorim.txt.gz') as file:\n",
    "    for line in file:\n",
    "        print(line.decode('utf-8'))"
   ]
  },
  {
   "cell_type": "code",
   "execution_count": null,
   "id": "bd722716",
   "metadata": {},
   "outputs": [],
   "source": []
  }
 ],
 "metadata": {
  "kernelspec": {
   "display_name": "Python 3 (ipykernel)",
   "language": "python",
   "name": "python3"
  },
  "language_info": {
   "codemirror_mode": {
    "name": "ipython",
    "version": 3
   },
   "file_extension": ".py",
   "mimetype": "text/x-python",
   "name": "python",
   "nbconvert_exporter": "python",
   "pygments_lexer": "ipython3",
   "version": "3.11.3"
  }
 },
 "nbformat": 4,
 "nbformat_minor": 5
}
